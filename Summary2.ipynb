{
 "cells": [
  {
   "cell_type": "code",
   "execution_count": 2,
   "id": "dfcae881",
   "metadata": {},
   "outputs": [],
   "source": [
    "import yt\n",
    "import sys\n",
    "sys.path.append(\"path_to/foggie/\")\n",
    "import warnings\n",
    "import matplotlib.cbook\n",
    "warnings.filterwarnings(\"ignore\",category=matplotlib.cbook.mplDeprecation)\n",
    "import logging, sys\n",
    "logging.disable(sys.maxsize)\n",
    "import matplotlib.pyplot as plt"
   ]
  },
  {
   "cell_type": "code",
   "execution_count": 4,
   "id": "ae8f163b",
   "metadata": {},
   "outputs": [],
   "source": [
    "from foggie.utils.consistency import *\n",
    "from foggie.utils.foggie_load import *\n",
    "foggie_dir =\"/Volumes/Student Project Drive/halo_008508/nref11c_nref9f/\"\n",
    "code_path = \"path_to/foggie/foggie/\"\n",
    "track_dir = code_path + 'halo_infos/008508/nref11c_nref9f/'  # directory / -> folder\n",
    "track_name = code_path + 'halo_tracks/008508/nref11n_selfshield_15/halo_track_200kpc_nref9'"
   ]
  },
  {
   "cell_type": "code",
   "execution_count": 3,
   "id": "432c9cc2",
   "metadata": {},
   "outputs": [],
   "source": [
    "import matplotlib.pyplot as plt\n",
    "import math\n",
    "from astropy.cosmology import Planck15 as cosmo\n",
    "import numpy as np\n",
    "from astropy.table import Table\n",
    "from mpl_toolkits.axes_grid1 import AxesGrid\n",
    "from yt.utilities.cosmology import Cosmology"
   ]
  },
  {
   "cell_type": "markdown",
   "id": "e054db34",
   "metadata": {},
   "source": [
    "# 1. Projected Density  (One Snapshot) "
   ]
  },
  {
   "cell_type": "code",
   "execution_count": 5,
   "id": "a25b485a",
   "metadata": {},
   "outputs": [],
   "source": [
    "import yt\n",
    "import sys\n",
    "sys.path.append(\"path_to/foggie/\")\n",
    "\n",
    "import warnings\n",
    "import matplotlib.cbook\n",
    "warnings.filterwarnings(\"ignore\",category=matplotlib.cbook.mplDeprecation)\n",
    "import logging, sys\n",
    "logging.disable(sys.maxsize)\n",
    "import matplotlib.pyplot as plt\n",
    "import math\n",
    "\n",
    "from foggie.utils.consistency import *\n",
    "from foggie.utils.foggie_load import *\n",
    "\n"
   ]
  },
  {
   "cell_type": "code",
   "execution_count": null,
   "id": "14caa084",
   "metadata": {},
   "outputs": [],
   "source": [
    "## For just DD2427 on Desktop \n",
    "\n",
    "foggie_dir =\"/Volumes/Student Project Drive/halo_008508/nref11c_nref9f/\"\n",
    "code_path = \"path_to/foggie/foggie/\"\n",
    "track_dir = code_path + 'halo_infos/008508/nref11c_nref9f/'  # directory / -> folder\n",
    "track_name = code_path + 'halo_tracks/008508/nref11n_selfshield_15/halo_track_200kpc_nref9'\n",
    "\n",
    "snap = 'DD2247'\n",
    "snap_name = foggie_dir + snap + '/' + snap\n",
    "ds, refine_box = foggie_load(snap_name, track_name, halo_c_v_name=track_dir+'halo_c_v', disk_relative=False,\n",
    "                             do_filter_particles=False, masses_dir=track_dir)"
   ]
  },
  {
   "cell_type": "code",
   "execution_count": 7,
   "id": "e6adc7d3",
   "metadata": {},
   "outputs": [],
   "source": [
    "rvir_masses = Table.read('path_to/rvir_masses.hdf5',path ='all_data')\n",
    "Rvir = rvir_masses['radius'][rvir_masses['snapshot']==snap]\n",
    "sphere = ds.sphere(ds.halo_center_kpc,(Rvir[0],'kpc'))\n",
    "cgm = sphere.cut_region(\"(obj['density'] < %.2e) & (obj['temperature'] > %.2e)\" % \n",
    "                        (cgm_density_max, cgm_temperature_min))\n"
   ]
  },
  {
   "cell_type": "code",
   "execution_count": 8,
   "id": "b373747a",
   "metadata": {},
   "outputs": [],
   "source": [
    "projx = yt.ProjectionPlot(ds, 'x', ['metal_mass', 'cell_mass', 'HI_Density'], \n",
    "                          data_source=cgm, width=(200, 'kpc'), center=ds.halo_center_kpc)\n",
    "projy = yt.ProjectionPlot(ds, 'y', ['metal_mass', 'cell_mass', 'HI_Density'],\n",
    "                          data_source=cgm, width=(200, 'kpc'), center=ds.halo_center_kpc) \n",
    "projz = yt.ProjectionPlot(ds, 'z', ['metal_mass', 'cell_mass', 'HI_Density'],\n",
    "                          data_source=cgm, width=(200, 'kpc'), center=ds.halo_center_kpc)\n",
    "\n",
    "projx_frb = projx.data_source.to_frb((200,'kpc'), 800, center=ds.halo_center_kpc)\n",
    "projy_frb = projy.data_source.to_frb((200,'kpc'), 800, center=ds.halo_center_kpc)\n",
    "projz_frb = projz.data_source.to_frb((200,'kpc'), 800, center=ds.halo_center_kpc)"
   ]
  },
  {
   "cell_type": "markdown",
   "id": "19b770fd",
   "metadata": {},
   "source": [
    "### HI cut "
   ]
  },
  {
   "cell_type": "code",
   "execution_count": 10,
   "id": "8a1212cb",
   "metadata": {},
   "outputs": [],
   "source": [
    "# Divide by mp (mass of proton) to convert from g/cm^2 to cm^-2\n",
    "zero_HI_indicesx = np.where(projx_frb['HI_Density'].to('g/cm**2')/mp > 0)\n",
    "zero_HI_indicesy = np.where(projy_frb['HI_Density'].to('g/cm**2')/mp > 0) \n",
    "zero_HI_indicesz = np.where(projz_frb['HI_Density'].to('g/cm**2')/mp > 0)\n",
    "\n",
    "mid_HI_indicesx = np.where(projx_frb['HI_Density'].to('g/cm**2')/mp > 1e14) \n",
    "mid_HI_indicesy = np.where(projy_frb['HI_Density'].to('g/cm**2')/mp > 1e14) \n",
    "mid_HI_indicesz = np.where(projz_frb['HI_Density'].to('g/cm**2')/mp > 1e14) \n",
    "\n",
    "high_HI_indicesx = np.where(projx_frb['HI_Density'].to('g/cm**2')/mp > 1e15) \n",
    "high_HI_indicesy = np.where(projy_frb['HI_Density'].to('g/cm**2')/mp > 1e15) \n",
    "high_HI_indicesz = np.where(projz_frb['HI_Density'].to('g/cm**2')/mp > 1e15) "
   ]
  },
  {
   "cell_type": "code",
   "execution_count": 15,
   "id": "5f175cba",
   "metadata": {},
   "outputs": [],
   "source": [
    "Z_obs_comparex_zero = (projx_frb['metal_mass']/projx_frb['cell_mass'])[zero_HI_indicesx].to('Zsun')\n",
    "Z_obs_comparey_zero = (projy_frb['metal_mass']/projy_frb['cell_mass'])[zero_HI_indicesy].to('Zsun')\n",
    "Z_obs_comparez_zero = (projz_frb['metal_mass']/projz_frb['cell_mass'])[zero_HI_indicesz].to('Zsun')\n",
    "\n",
    "Z_obs_comparex_mid = (projx_frb['metal_mass']/projx_frb['cell_mass'])[mid_HI_indicesx].to('Zsun')\n",
    "Z_obs_comparey_mid = (projy_frb['metal_mass']/projy_frb['cell_mass'])[mid_HI_indicesy].to('Zsun')\n",
    "Z_obs_comparez_mid = (projz_frb['metal_mass']/projz_frb['cell_mass'])[mid_HI_indicesz].to('Zsun')\n",
    "\n",
    "Z_obs_comparex_high = (projx_frb['metal_mass']/projx_frb['cell_mass'])[high_HI_indicesx].to('Zsun')\n",
    "Z_obs_comparey_high = (projy_frb['metal_mass']/projy_frb['cell_mass'])[high_HI_indicesy].to('Zsun')\n",
    "Z_obs_comparez_high = (projz_frb['metal_mass']/projz_frb['cell_mass'])[high_HI_indicesz].to('Zsun')"
   ]
  },
  {
   "cell_type": "code",
   "execution_count": 18,
   "id": "4d07f3e3",
   "metadata": {},
   "outputs": [],
   "source": [
    "Z_obs_high = np.concatenate((Z_obs_comparex_high,Z_obs_comparey_high,Z_obs_comparez_high),axis =0)\n",
    "Z_obs_zero = np.concatenate((Z_obs_comparex_zero,Z_obs_comparey_zero,Z_obs_comparez_zero),axis =0)\n",
    "Z_obs_mid = np.concatenate((Z_obs_comparex_mid,Z_obs_comparey_mid,Z_obs_comparez_mid),axis =0)\n"
   ]
  },
  {
   "cell_type": "markdown",
   "id": "8d3bcc07",
   "metadata": {},
   "source": [
    "### Metallicity Histogram for different HI column density cuts "
   ]
  },
  {
   "cell_type": "code",
   "execution_count": null,
   "id": "8764358b",
   "metadata": {},
   "outputs": [],
   "source": [
    "hist,bins = np.histogram(Z_obs_zero.tolist(),bins=30,range=[1e-3,1e1])\n",
    "logbins=np.logspace(np.log10(bins[0]),np.log10(bins[-1]),len(bins))\n",
    "plt.hist(Z_obs_zero.tolist(),bins=logbins,range=[1e-4,1e2],\n",
    "         color='cornflowerblue',linewidth=0.5,edgecolor='black',label='all HI density')\n",
    "plt.xscale('log')\n",
    "#plt.yscale('log')\n",
    "axes = plt.gca()\n",
    "axes.set_xlim([1e-3,1e1])\n",
    "axes.set_ylim([0,0.6*1e6])\n",
    "\n",
    "\n",
    "hist,bins = np.histogram(Z_obs_mid.tolist(),bins=30,range=[1e-3,1e1])\n",
    "logbins=np.logspace(np.log10(bins[0]),np.log10(bins[-1]),len(bins))\n",
    "plt.hist(Z_obs_mid.tolist(),bins=logbins,range=[1e-4,1e2],\n",
    "         color='mediumaquamarine',linewidth=0.5,edgecolor='black',label='medium HI density cut ')\n",
    "plt.xscale('log')\n",
    "axes = plt.gca()\n",
    "axes.set_xlim([1e-3,1e1])\n",
    "axes.set_ylim([0,0.6*1e6])\n",
    "\n",
    "\n",
    "\n",
    "\n",
    "hist,bins = np.histogram(Z_obs_high.tolist(),bins=30,range=[1e-3,1e1])\n",
    "logbins=np.logspace(np.log10(bins[0]),np.log10(bins[-1]),len(bins))\n",
    "plt.hist(Z_obs_high.tolist(),bins=logbins,range=[1e-4,1e2],\n",
    "         color='lightcoral',linewidth=0.5,edgecolor='black',label=\"high HI density cut\")\n",
    "plt.xscale('log')\n",
    "axes = plt.gca()\n",
    "axes.set_xlim([1e-3,1e1])\n",
    "axes.set_ylim([0,0.6*1e6])\n",
    "axes.set_xlabel(\"Metallicity [$Z_{\\odot}$]\",fontsize=14)\n",
    "plt.legend(loc='upper right')\n",
    "plt.savefig('differentHIcut.png',bbox_inches='tight')\n"
   ]
  },
  {
   "cell_type": "markdown",
   "id": "afaab7eb",
   "metadata": {},
   "source": [
    "### Metallicity Histogram of Projected data and normal data\n"
   ]
  },
  {
   "cell_type": "code",
   "execution_count": null,
   "id": "b9e2b5ff",
   "metadata": {},
   "outputs": [],
   "source": [
    "fig,ax = plt.subplots()\n",
    "hist,bins = np.histogram(metallicity_array,bins=30,range=[1e-3,1e1])\n",
    "logbins=np.logspace(np.log10(bins[0]),np.log10(bins[-1]),len(bins))\n",
    "plt.hist(metallicity_array,bins=logbins,range=[1e-4,1e2],\n",
    "         alpha=0.5,color='purple',linewidth=0.5,edgecolor='black',label=\"Simulation_all\")\n",
    "plt.xscale('log')\n",
    "axes = plt.gca()\n",
    "axes.set_xlim([1e-3,1e1])\n",
    "axes.set_ylim([0,3*1e6])\n",
    "axes.set_xlabel(\"Metallicity [$Z_{\\odot}$]\",fontsize=14)\n",
    "\n",
    "\n",
    "\n",
    "axes1= ax.twinx()\n",
    "hist,bins = np.histogram(Z_obs_high.tolist(),bins=30,range=[1e-3,1e1])\n",
    "logbins=np.logspace(np.log10(bins[0]),np.log10(bins[-1]),len(bins))\n",
    "plt.hist(Z_obs_high.tolist(),bins=logbins,range=[1e-4,1e2],\n",
    "         color='lightcoral',linewidth=0.5,edgecolor='black',label='Projected_all')\n",
    "plt.xscale('log')\n",
    "axes1 = plt.gca()\n",
    "axes1.set_xlim([1e-3,1e1])\n",
    "axes1.set_ylim([0,0.1*1e6])\n",
    "axes1.set_xlabel(\"Metallicity [$Z_{\\odot}$]\",fontsize=14)\n",
    "plt.show()\n"
   ]
  },
  {
   "cell_type": "markdown",
   "id": "4dfd718e",
   "metadata": {},
   "source": [
    "# 2. Phase Plot"
   ]
  },
  {
   "cell_type": "code",
   "execution_count": 5,
   "id": "a2ead924",
   "metadata": {},
   "outputs": [],
   "source": [
    "rvir_masses = Table.read('path_to/rvir_masses.hdf5',path ='all_data')\n",
    "Rvir = rvir_masses['radius'][rvir_masses['snapshot']==snap]\n",
    "\n",
    "# Define limits here \n",
    "\n",
    "temp_phase_min = 1e1\n",
    "temp_phase_max = 1e9\n",
    "dens_phase_min = 1e-31\n",
    "dens_phase_max = 1e-22\n",
    "metal_mass_phase_min = 10.**31\n",
    "metal_mass_phase_max = 10.**38\n",
    "metallicity_phase_min = 4e-3\n",
    "metallicity_phase_max = 2e1\n",
    "radial_vel_phase_min = -500\n",
    "radial_vel_phase_max = 4000"
   ]
  },
  {
   "cell_type": "code",
   "execution_count": 8,
   "id": "00f48f3a",
   "metadata": {},
   "outputs": [],
   "source": [
    "def radius_corrected(field, data):\n",
    "    \"\"\"Corrects the radius for the center of the halo. Requires 'halo_center_kpc', which is the halo\n",
    "    center with yt units of kpc, to be defined. -Cassi\"\"\"\n",
    "    halo_center_kpc = data.ds.halo_center_kpc\n",
    "    x_hat = data['gas','x'].in_units('kpc') - halo_center_kpc[0]\n",
    "    y_hat = data['gas','y'].in_units('kpc') - halo_center_kpc[1]\n",
    "    z_hat = data['gas','z'].in_units('kpc') - halo_center_kpc[2]\n",
    "    r = np.sqrt(x_hat*x_hat + y_hat*y_hat + z_hat*z_hat)\n",
    "    return r"
   ]
  },
  {
   "cell_type": "code",
   "execution_count": 9,
   "id": "4e78d058",
   "metadata": {},
   "outputs": [],
   "source": [
    "yt.add_particle_filter(\"radius_corrected\",function = 'gas')\n",
    "ds.add_particle_filter(\"radius_corrected\")\n",
    "sphere=sphere.cut_region(\"(obj['radius_corrected'] > %.2e)\"% (20)) \n",
    "cgm=sphere.cut_region(\"(obj['density'] < %.2e) & (obj['temperature'] > %.2e)\"\n",
    "                      % (cgm_density_max, cgm_temperature_min))\n"
   ]
  },
  {
   "cell_type": "code",
   "execution_count": 12,
   "id": "8ad1f7eb",
   "metadata": {},
   "outputs": [],
   "source": [
    "def phase_plot_compare(fieldx,fieldy,fieldz): \n",
    "    if fieldz == 'density': \n",
    "        order3 =0\n",
    "    elif fieldz =='temperature': \n",
    "        order3=1\n",
    "    elif fieldz =='metal_mass': \n",
    "        order3=2\n",
    "    elif fieldz =='metallicity': \n",
    "        order3=3\n",
    "    else: \n",
    "        order3=4\n",
    "        \n",
    "    if fieldx == 'density': \n",
    "        order1 =0\n",
    "    elif fieldx =='temperature': \n",
    "        order1=1\n",
    "    elif fieldx =='metal_mass': \n",
    "        order1=2\n",
    "    elif fieldx =='metallicity': \n",
    "        order1=3\n",
    "    else: \n",
    "        order1=4\n",
    "        \n",
    "    if fieldy == 'density': \n",
    "        order2 =0\n",
    "    elif fieldy =='temperature': \n",
    "        order2=1\n",
    "    elif fieldy =='metal_mass': \n",
    "        order2=2\n",
    "    elif fieldy =='metallicity': \n",
    "        order32=3\n",
    "    else: \n",
    "        order2=4\n",
    "    min_value = [dens_phase_min,temp_phase_min,metal_mass_phase_min,metallicity_phase_min,radial_vel_phase_min]\n",
    "    max_value = [dens_phase_max,temp_phase_max,metal_mass_phase_max,metallicity_phase_max,radial_vel_phase_max]\n",
    "    xmin = min_value[order1]\n",
    "    xmax = max_value[order1]\n",
    "    ymin = min_value[order2]\n",
    "    ymax = max_value[order2]\n",
    "    zmin = min_value[order3]\n",
    "    zmax = max_value[order3]\n",
    "    fig = plt.figure()\n",
    "    grid = AxesGrid(fig,(0.075,0.075,0.85,0.85),nrows_ncols=(1,2),axes_pad = 0.5,label_mode = \"L\",\n",
    "                   share_all = True,cbar_location=\"right\",cbar_mode=\"single\",cbar_size =\"3%\",\n",
    "                    cbar_pad=\"0%\",aspect = False)\n",
    "    dataset=[refine_box,cgm]\n",
    "    for i, data in enumerate(dataset): \n",
    "        p = yt.PhasePlot(data,fieldx,fieldy,fieldz)\n",
    "        p.set_zlim(('gas',fieldz),zmin,zmax)\n",
    "        p.set_xlim(xmin,xmax)\n",
    "        p.set_ylim(ymin,ymax)\n",
    "        plot = p.plots[fieldz]\n",
    "        plot.figure = fig\n",
    "        plot.axes = grid[i].axes\n",
    "        #plot.cax = grid.cbar_axes[i]\n",
    "        if i==0: \n",
    "            plot.cax = grid.cbar_axes[i]\n",
    "            \n",
    "        p._setup_plots()\n",
    "        plot.axes.xaxis.set_minor_locator(plt.LogLocator(base=10.0, subs=[2.0, 5.0, 8.0]))\n"
   ]
  },
  {
   "cell_type": "code",
   "execution_count": null,
   "id": "14337970",
   "metadata": {},
   "outputs": [],
   "source": [
    "phase_plot_compare('temperature','radial_velocity_corrected','metallicity')\n",
    "phase_plot_compare('density','radial_velocity_corrected','metallicity')\n",
    "phase_plot_compare(\"density\",\"temperature\",\"metallicity\")"
   ]
  },
  {
   "cell_type": "markdown",
   "id": "b9a3e997",
   "metadata": {},
   "source": [
    "# 3. Profile Plot with Standard Deviation "
   ]
  },
  {
   "cell_type": "code",
   "execution_count": 6,
   "id": "62d2c675",
   "metadata": {},
   "outputs": [],
   "source": [
    "from foggie.utils.consistency import *\n",
    "from foggie.utils.foggie_load import *\n",
    "foggie_dir =\"/Volumes/Student Project Drive/halo_008508/nref11c_nref9f/\"\n",
    "code_path = \"path_to/foggie/foggie/\"\n",
    "track_dir = code_path + 'halo_infos/008508/nref11c_nref9f/'  # directory / -> folder\n",
    "track_name = code_path + 'halo_tracks/008508/nref11n_selfshield_15/halo_track_200kpc_nref9'"
   ]
  },
  {
   "cell_type": "code",
   "execution_count": 8,
   "id": "ff53436c",
   "metadata": {},
   "outputs": [],
   "source": [
    "def sd_profile_for_frame(frame,variable): \n",
    "    mean_list =[]\n",
    "    std_list =[]\n",
    "    xvalue_list=[]\n",
    "    for k in range(1): \n",
    "        \n",
    "        snap = \"DD\"+str(frame)\n",
    "        snap_name = foggie_dir + snap + '/' + snap\n",
    "        ds, refine_box = foggie_load(snap_name, track_name, halo_c_v_name=track_dir+'halo_c_v', disk_relative=False,\n",
    "                             do_filter_particles=False, masses_dir=track_dir)\n",
    "        rvir_masses = Table.read('path_to/rvir_masses.hdf5',path ='all_data')\n",
    "        Rvir = rvir_masses['radius'][rvir_masses['snapshot']==snap]\n",
    "         \n",
    "        \n",
    "        sphere = ds.sphere(ds.halo_center_kpc,(Rvir[0],'kpc'))\n",
    "        cgm = sphere.cut_region(\"(obj['density'] < %.2e) & (obj['temperature'] > %.2e)\" % \n",
    "                                (cgm_density_max, cgm_temperature_min))\n",
    "        prof = yt.create_profile(cgm,variable,(\"gas\",\"metallicity\"))\n",
    "        mean=prof[\"gas\",\"metallicity\"]\n",
    "        std=prof.standard_deviation[\"gas\",\"metallicity\"]\n",
    "        xvalue = prof.x\n",
    "        mean_list.append(mean)\n",
    "        std_list.append(std)\n",
    "        xvalue_list.append(xvalue)\n",
    "    return mean_list,std_list,xvalue_list"
   ]
  },
  {
   "cell_type": "code",
   "execution_count": 13,
   "id": "7e8427f6",
   "metadata": {},
   "outputs": [],
   "source": [
    "# Define frame here \n",
    "frame = 2427"
   ]
  },
  {
   "cell_type": "code",
   "execution_count": null,
   "id": "c3e1134e",
   "metadata": {},
   "outputs": [],
   "source": [
    "Dens=sd_profile_for_frame(frame,'density')\n",
    "Rvel=sd_profile_for_frame(frame,'radial_velocity_corrected')\n",
    "Temp=sd_profile_for_frame(frame,'temperature')"
   ]
  },
  {
   "cell_type": "markdown",
   "id": "780eb474",
   "metadata": {},
   "source": [
    "### Metallicity vs Radial velocity"
   ]
  },
  {
   "cell_type": "code",
   "execution_count": null,
   "id": "b37bd3e9",
   "metadata": {},
   "outputs": [],
   "source": [
    "mean = Rvel[0]    \n",
    "std = Rvel[1]\n",
    "xvalue = Rvel[2]\n",
    "\n",
    "N = 64\n",
    "x = np.array(xvalue)[0]\n",
    "y = np.array(mean)[0]\n",
    "\n",
    "a, b = np.polyfit(x, y, deg=1)\n",
    "y_est = np.array(mean)[0]\n",
    "\n",
    "y_err=abs(np.array(std)[0]-np.array(mean)[0])\n",
    "\n",
    "fig, ax = plt.subplots()\n",
    "ax.plot(x, y_est, '-')\n",
    "ax.set_yscale('log',base=10)\n",
    "ax.fill_between(x, y_est - y_err, y_est + y_err, alpha=0.2)\n",
    "ax.set_xlabel('Radial Velocity [km/s]',fontsize=14) \n",
    "ax.set_ylabel('Metallicity [$Z_{\\odot}$]',fontsize=14)\n",
    "ax.set_ylim([1e-2,1e1])\n",
    "ax.set_xlim([-500,1500])\n"
   ]
  },
  {
   "cell_type": "markdown",
   "id": "d0d7d16a",
   "metadata": {},
   "source": [
    "### Metallicity vs Density "
   ]
  },
  {
   "cell_type": "code",
   "execution_count": null,
   "id": "88701f6b",
   "metadata": {},
   "outputs": [],
   "source": [
    "mean = Dens[0]    \n",
    "std = Dens[1]\n",
    "xvalue = Dens[2]\n",
    "\n",
    "N = 64\n",
    "x = np.array(xvalue)[0]\n",
    "y = np.array(mean)[0]\n",
    "\n",
    "a, b = np.polyfit(x, y, deg=1)\n",
    "y_est = np.array(mean)[0]\n",
    "\n",
    "y_err=abs(np.array(std)[0]-np.array(mean)[0])\n",
    "\n",
    "fig, ax = plt.subplots()\n",
    "ax.loglog(x, y_est, '-')\n",
    "\n",
    "ax.fill_between(x, y_est - y_err, y_est + y_err, alpha=0.2)\n",
    "ax.set_xlabel('Density [g/cm^3]',fontsize=14) \n",
    "ax.set_ylabel('Metallicity [$Z_{\\odot}$]',fontsize=14)"
   ]
  },
  {
   "cell_type": "markdown",
   "id": "1b6337cc",
   "metadata": {},
   "source": [
    "### Metallicity vs Temperature "
   ]
  },
  {
   "cell_type": "code",
   "execution_count": null,
   "id": "27d62d52",
   "metadata": {},
   "outputs": [],
   "source": [
    "mean = Temp[0]\n",
    "std = Temp[1]\n",
    "xvalue = Temp[2]\n",
    "\n",
    "N = 64\n",
    "x = np.array(xvalue)[0]\n",
    "y = np.array(mean)[0]\n",
    "\n",
    "a, b = np.polyfit(x, y, deg=1)\n",
    "y_est = np.array(mean)[0]\n",
    "\n",
    "y_err=abs(np.array(std)[0]-np.array(mean)[0])\n",
    "\n",
    "fig, ax = plt.subplots()\n",
    "ax.loglog(x, y_est, '-')\n",
    "\n",
    "ax.fill_between(x, y_est - y_err, y_est + y_err, alpha=0.2)\n",
    "ax.set_xlabel('Temperature [K]',fontsize=14) \n",
    "ax.set_ylabel('Metallicity [$Z_{\\odot}$]',fontsize=14)\n"
   ]
  },
  {
   "cell_type": "markdown",
   "id": "4064b5c9",
   "metadata": {},
   "source": [
    "# 4. Star Information "
   ]
  },
  {
   "cell_type": "code",
   "execution_count": null,
   "id": "3f8f0ccc",
   "metadata": {},
   "outputs": [],
   "source": [
    "foggie_dir =\"/Volumes/Student Project Drive/halo_008508/nref11c_nref9f/\"\n",
    "code_path = \"path_to/foggie/foggie/\"\n",
    "track_dir = code_path + 'halo_infos/008508/nref11c_nref9f/'  # directory / -> folder\n",
    "track_name = code_path + 'halo_tracks/008508/nref11n_selfshield_15/halo_track_200kpc_nref9'\n"
   ]
  },
  {
   "cell_type": "code",
   "execution_count": null,
   "id": "a3838e43",
   "metadata": {},
   "outputs": [],
   "source": [
    "def _stars(pfilter, data):\n",
    "    \"\"\"Filter star particles\n",
    "    To use: yt.add_particle_filter(\"stars\",function=_stars, filtered_type='all',requires=[\"particle_type\"])\"\"\"\n",
    "\n",
    "    return data[(pfilter.filtered_type, \"particle_type\")] == 2\n",
    "\n",
    "\n",
    "def _young_stars(pfilter, data):\n",
    "    \"\"\"Filter star particles with creation time < 10 Myr ago\n",
    "    To use: yt.add_particle_filter(\"young_stars\", function=_young_stars, \n",
    "    filtered_type='all', requires=[\"creation_time\"])\"\"\"\n",
    "\n",
    "    age = data.ds.current_time - data[pfilter.filtered_type, \"creation_time\"]\n",
    "    filter = np.logical_and(age.in_units('Myr') <= 10, age >= 0)\n",
    "    return filter\n",
    "\n",
    "yt.add_particle_filter(\"stars\",function=_stars, filtered_type='all',requires=[\"particle_type\"])\n",
    "yt.add_particle_filter(\"young_stars\", function=_young_stars, filtered_type='all', requires=[\"creation_time\"])\n"
   ]
  },
  {
   "cell_type": "code",
   "execution_count": null,
   "id": "ca409b81",
   "metadata": {},
   "outputs": [],
   "source": [
    "def get_star_info(n_snapshots,increments,initial_frame): \n",
    "   \n",
    "    for k in range(n_snapshots): \n",
    "        snap = \"DD\"+str(increments*k+initial_frame)\n",
    "        snap_name = foggie_dir + snap + '/' + snap\n",
    "        ds, refine_box = foggie_load(snap_name, track_name, halo_c_v_name=track_dir+'halo_c_v', disk_relative=False,\n",
    "                             do_filter_particles=False, masses_dir=track_dir)\n",
    "        ds.add_particle_filter('stars') \n",
    "        ds.add_particle_filter('young_stars')\n",
    "        gc_sphere = ds.sphere(ds.halo_center_kpc, ds.arr(20,'kpc'))\n",
    "        gc_sphere.set_field_parameter('bulk_velocity',ds.halo_velocity_kms)\n",
    "        results = {}\n",
    "        results['redshift']=ds.current_redshift\n",
    "        \n",
    "        \n",
    "        for star_type in ['stars','young_stars']: \n",
    "            Z_stars = gc_sphere.quantities.weighted_average_quantity((star_type,'metallicity_fraction'),\n",
    "                                                            weight=(star_type,'particle_mass'))\n",
    "            M_stars = gc_sphere.quantities.total_quantity((star_type,'particle_mass'))\n",
    "            results['%s_Z'%star_type]=Z_stars.to('Zsun')\n",
    "            results['%s_M'%star_type]=M_stars.to('Msun')\n",
    "            \n",
    "            \n",
    "        for gas_type in ['all_gas', 'cold_gas', 'hot_gas']:\n",
    "            if gas_type == 'all_gas': low_temp, high_temp = 0, 1.e6\n",
    "            if gas_type == 'cold_gas': low_temp, high_temp = 0., 1.5e4\n",
    "            if gas_type == 'hot_gas': low_temp, high_temp = 1.5e4, 1.e6\n",
    "\n",
    "            temp_cut = gc_sphere.cut_region([\"(obj['temperature'] > {}) & (obj['temperature'] < {})\"\n",
    "                                             .format(low_temp, high_temp)])\n",
    "\n",
    "            \n",
    "                \n",
    "            Z_gas = temp_cut.quantities.weighted_average_quantity(('gas', 'metallicity'), \n",
    "                                                                  weight = ('gas', 'cell_mass')) \n",
    "            M_gas = temp_cut.quantities.total_quantity(('gas', 'cell_mass'))\n",
    "            results['%s_Z'%gas_type] = Z_gas.to('Zsun')\n",
    "            results['%s_M'%gas_type] = M_gas.to('Msun')\n",
    "        \n",
    "        results_array = [results['redshift'],results['stars_Z'],results['stars_M'],\n",
    "                         results['young_stars_Z'],results['young_stars_M'],\n",
    "                        results['all_gas_Z'],results['all_gas_M'],results['cold_gas_Z'],\n",
    "                         results['cold_gas_M'],results['hot_gas_Z'],results['hot_gas_M']]\n",
    "        np.save('path_to/Star_info/'+snap,results_array)\n",
    "        "
   ]
  },
  {
   "cell_type": "code",
   "execution_count": null,
   "id": "3dc65f9f",
   "metadata": {},
   "outputs": [],
   "source": [
    "# Define here \n",
    "N_snapshot = \n",
    "Increments =\n",
    "Initial_frame = \n",
    "get_star_info(N_snapshots,Increments,Initial_frame)"
   ]
  },
  {
   "cell_type": "code",
   "execution_count": null,
   "id": "d60b596e",
   "metadata": {},
   "outputs": [],
   "source": [
    "def getting_star_info(n_snapshots,increments,initial_frame): \n",
    "    redshift_list=[]\n",
    "    stars_Z_list=[]\n",
    "    stars_M_list=[]\n",
    "    young_stars_Z_list=[]\n",
    "    young_stars_M_list=[]\n",
    "    all_gas_Z_list=[]\n",
    "    all_gas_M_list=[]\n",
    "    cold_gas_Z_list=[]\n",
    "    cold_gas_M_list=[]\n",
    "    hot_gas_Z_list=[]\n",
    "    hot_gas_M_list=[]\n",
    "    \n",
    "    for k in range(n_snapshots): \n",
    "        snapname = \"DD\"+str(initial_frame+increments*k)+\".npy\"\n",
    "        all_star_info = np.load('Star_info/'+snapname) \n",
    "        \n",
    "        redshift_list.append(all_star_info[0])\n",
    "        stars_Z_list.append(all_star_info[1])\n",
    "        stars_M_list.append(all_star_info[2])\n",
    "        young_stars_Z_list.append(all_star_info[3])\n",
    "        young_stars_M_list.append(all_star_info[4])\n",
    "        all_gas_Z_list.append(all_star_info[5])\n",
    "        all_gas_M_list.append(all_star_info[6])\n",
    "        cold_gas_Z_list.append(all_star_info[7])\n",
    "        cold_gas_M_list.append(all_star_info[8])\n",
    "        hot_gas_Z_list.append(all_star_info[9])\n",
    "        hot_gas_M_list.append(all_star_info[10])\n",
    "    \n",
    "    star_info_list = [[redshift_list],[stars_Z_list],[stars_M_list],[young_stars_Z_list],[young_stars_M_list],\n",
    "                      [all_gas_Z_list],[all_gas_M_list],[cold_gas_Z_list],[cold_gas_M_list],\n",
    "                      [hot_gas_Z_list],[hot_gas_M_list]]\n",
    "    return star_info_list\n",
    "    "
   ]
  },
  {
   "cell_type": "code",
   "execution_count": null,
   "id": "4ac1e473",
   "metadata": {},
   "outputs": [],
   "source": [
    "star_info_list = getting_star_info(N_snapshots,Increments,Initial_frame)\n",
    "redshift_list = star_info_list[0]\n",
    "stars_Z_list = star_info_list[1]\n",
    "stars_M_list = star_info_list[2]\n",
    "young_stars_Z_list =star_info_list[3]\n",
    "young_stars_M_list =star_info_list[4]\n",
    "all_gas_Z_list =star_info_list[5]\n",
    "all_gas_M_list=star_info_list[6]\n",
    "cold_gas_Z_list=star_info_list[7]\n",
    "cold_gas_M_list=star_info_list[8]\n",
    "hot_gas_Z_list =star_info_list[9]\n",
    "hot_gas_M_list=star_info_list[10]\n"
   ]
  },
  {
   "cell_type": "code",
   "execution_count": null,
   "id": "93ddb592",
   "metadata": {},
   "outputs": [],
   "source": [
    "def get_list_age(n_snapshots,increments,initial_frame): \n",
    "    age_list = []\n",
    "    redshift_list = []\n",
    "    for k in range(n_snapshots): \n",
    "        snap = \"DD\"+str(increments*k+initial_frame)\n",
    "        snap_name = foggie_dir + snap + '/' + snap\n",
    "        rvir_masses = Table.read('path_to/rvir_masses.hdf5',path ='all_data')\n",
    "        Rvir = rvir_masses['radius'][rvir_masses['snapshot']==snap]\n",
    "        redshift =rvir_masses['redshift'][rvir_masses['snapshot']==snap]\n",
    "        redshift_list.append(redshift[0])\n",
    "        \n",
    "        co = Cosmology()\n",
    "        age = co.t_from_z(redshift[0]).in_units(\"Gyr\")\n",
    "        age_list.append(age)\n",
    "    return age_list\n",
    "\n",
    "age_list = get_list_age(N_snapshots,Increments,Initial_frame)"
   ]
  },
  {
   "cell_type": "markdown",
   "id": "106d7c47",
   "metadata": {},
   "source": [
    "### Young Star Over Time"
   ]
  },
  {
   "cell_type": "code",
   "execution_count": null,
   "id": "1462ae6e",
   "metadata": {},
   "outputs": [],
   "source": [
    "fig = plt.figure()       \n",
    "fig.subplots_adjust(left=0.15)\n",
    "ax=plt.subplot()\n",
    "ax.plot(age_list,young_stars_M_list[0],color ='crimson')\n",
    "ax.set_xlabel(\"age [Gyr]\",fontsize=13) \n",
    "ax.set_ylabel(\"Stars Mass  [$M_{\\odot}$]\",fontsize=13)\n",
    "#ax.text(11, 8e7, r'Young Star', fontsize=14)\n",
    "ax.text(7.5, 7.5e7, 'Young Stars', style='italic',\n",
    "        bbox={'facecolor': 'lightyellow', 'alpha': 0.9, 'pad': 12},fontsize=12,color='black')"
   ]
  },
  {
   "cell_type": "markdown",
   "id": "2b8f7a3f",
   "metadata": {},
   "source": [
    "### All Star Over Time"
   ]
  },
  {
   "cell_type": "code",
   "execution_count": null,
   "id": "cd9f7d4a",
   "metadata": {},
   "outputs": [],
   "source": [
    "fig = plt.figure()        \n",
    "fig.subplots_adjust(left=0.15)\n",
    "ax=plt.subplot()\n",
    "ax.plot(age_list,stars_M_list[0],color ='crimson')\n",
    "ax.set_xlabel(\"age [Gyr]\",fontsize=13) \n",
    "ax.set_ylabel(\"Stars Mass  [$M_{\\odot}$]\",fontsize=13)\n",
    "#ax.text(11, 8e7, r'Young Star', fontsize=14)\n",
    "ax.text(7.5, 5.15*1e10, 'All Stars', style='italic',\n",
    "        bbox={'facecolor': 'lightyellow', 'alpha': 0.9, 'pad': 12},fontsize=12,color='black')"
   ]
  },
  {
   "cell_type": "markdown",
   "id": "709a7393",
   "metadata": {},
   "source": [
    "### Gas Mass Over Time"
   ]
  },
  {
   "cell_type": "code",
   "execution_count": null,
   "id": "e3b41bcc",
   "metadata": {},
   "outputs": [],
   "source": [
    "fig = plt.figure()        \n",
    "fig.subplots_adjust(left=0.15)\n",
    "ax=plt.subplot()\n",
    "ax.plot(age_list,all_gas_M_list[0],color ='crimson',label='all gas')\n",
    "ax.plot(age_list,hot_gas_M_list[0],color ='red',label='hot gas',linestyle ='dashed',linewidth=0.8)\n",
    "ax.plot(age_list,cold_gas_M_list[0],color ='blue',label = 'cold gas',linestyle='dashed',linewidth=0.8)\n",
    "ax.set_xlabel(\"age [Gyr]\",fontsize=13) \n",
    "ax.set_ylabel(\"Gass Mass  [$M_{\\odot}$]\",fontsize=13)\n",
    "legend = plt.legend(loc='best',shadow = False,fontsize ='medium')\n",
    "legend.get_frame().set_edgecolor('black')"
   ]
  },
  {
   "cell_type": "markdown",
   "id": "06e94f98",
   "metadata": {},
   "source": [
    "### Star Formation Rate "
   ]
  },
  {
   "cell_type": "code",
   "execution_count": null,
   "id": "d72e072b",
   "metadata": {},
   "outputs": [],
   "source": [
    "redshifts, SFRs = np.loadtxt('path_to/sfr', unpack=True, usecols=[1,2], skiprows=1)\n",
    "\n",
    "redshift_list=np.array(redshifts)\n",
    "\n",
    "def get_age(n): \n",
    "    age_list=[]\n",
    "    for k in range(n): \n",
    "        co = Cosmology()\n",
    "        age = co.t_from_z(redshift_list[k]).in_units(\"Gyr\") \n",
    "        age_list.append(age)\n",
    "    return age_list\n",
    "\n",
    "age_list2=get_age(len(redshift_list))"
   ]
  },
  {
   "cell_type": "code",
   "execution_count": null,
   "id": "5f9a40e1",
   "metadata": {},
   "outputs": [],
   "source": [
    "fig = plt.figure()        \n",
    "fig.subplots_adjust(left=0.15)\n",
    "ax=plt.subplot()\n",
    "ax.plot(age_list2,SFRs,linewidth=0.8,color='royalblue')\n",
    "ax.set_xlabel(\"age  [Gyr]\",fontsize=14)\n",
    "ax.set_ylabel(r\"SFR  [M$_\\odot$/ yr ]\",fontsize=14)\n"
   ]
  }
 ],
 "metadata": {
  "kernelspec": {
   "display_name": "Python 3",
   "language": "python",
   "name": "python3"
  },
  "language_info": {
   "codemirror_mode": {
    "name": "ipython",
    "version": 3
   },
   "file_extension": ".py",
   "mimetype": "text/x-python",
   "name": "python",
   "nbconvert_exporter": "python",
   "pygments_lexer": "ipython3",
   "version": "3.8.5"
  }
 },
 "nbformat": 4,
 "nbformat_minor": 5
}
